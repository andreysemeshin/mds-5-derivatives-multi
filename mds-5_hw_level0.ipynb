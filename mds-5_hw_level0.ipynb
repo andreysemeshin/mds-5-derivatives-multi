{
 "cells": [
  {
   "cell_type": "code",
   "execution_count": 1,
   "metadata": {},
   "outputs": [],
   "source": [
    "import numpy as np\n",
    "from scipy.optimize import approx_fprime\n",
    "from scipy.misc import derivative\n",
    "from scipy.optimize import minimize\n",
    "import math"
   ]
  },
  {
   "cell_type": "markdown",
   "metadata": {},
   "source": [
    "### Уровень 0: \n",
    "Посчитайте частные производные функций\n",
    "(как обычно, необходимо решение на бумажке или в LaTeX и на scipy):"
   ]
  },
  {
   "cell_type": "markdown",
   "metadata": {},
   "source": [
    "1) $f(x,y)=2x^2y^3 + 1/x + y^2x + 7$, а для этой функции также градиент в точке $(1,2)$\n",
    "\n",
    "2) $f(x,y)=x^2y - sin(xy) + cos(x^2) + 6y$"
   ]
  },
  {
   "cell_type": "markdown",
   "metadata": {},
   "source": [
    "Решение в LaTeX:\n",
    "\n",
    "$f(x,y)=2x^2y^3 + 1/x + y^2x + 7$, а для этой функции также градиент в точке $(1,2)$\n",
    "\n",
    "$f'x = 4x(y^3)- 1/(x^2) + (y^2)$ - частная производная по х\n",
    "\n",
    "$f'y = 6(x^2)(y^2) + 2yx$  - частная производная по y\n",
    "    \n",
    "$f'x(1,2)= 4*1*(2^3) -1/(1*1) + (2*2) = 35$  значение частной производной по х в точки (1,2)\n",
    "$f'y(1,2)= 6*(1*1)*(2*2) + 2*2*1 = 28$  значение частной производной по у в точки (1,2)"
   ]
  },
  {
   "cell_type": "code",
   "execution_count": 2,
   "metadata": {},
   "outputs": [],
   "source": [
    "# 1)\n",
    "def func(x, c0, c1):\n",
    "    return c0*(x[0]**2)*(x[1]**3) + 1/x[0] + x[0]*x[1]**2 + c1"
   ]
  },
  {
   "cell_type": "code",
   "execution_count": 3,
   "metadata": {},
   "outputs": [
    {
     "data": {
      "text/plain": [
       "array([35.00000024, 28.00000272])"
      ]
     },
     "execution_count": 3,
     "metadata": {},
     "output_type": "execute_result"
    }
   ],
   "source": [
    "x = np.array([1,2]) #градиент в точке  (1,2)\n",
    "c0, c1 = (2, 7)\n",
    "eps = np.sqrt(np.finfo(float).eps)\n",
    "#func = f2(x, c0, c1)\n",
    "approx_fprime(x, func, [eps, np.sqrt(200) * eps], c0, c1)"
   ]
  },
  {
   "cell_type": "code",
   "execution_count": null,
   "metadata": {},
   "outputs": [],
   "source": []
  },
  {
   "cell_type": "code",
   "execution_count": 4,
   "metadata": {},
   "outputs": [],
   "source": [
    "# 2)\n",
    "def func2(x, c0, c1):\n",
    "    return c0*(x[0]**2)*x[1] - math.sin(x[0]*x[1]) + math.cos(x[0]*x[0]) + c1*x[1]"
   ]
  },
  {
   "cell_type": "markdown",
   "metadata": {},
   "source": [
    "$f'x = 2*xy - y*cos(xy) - 2*x*sin(x^2)$ - частная производная по х\n",
    "\n",
    "$f'y = x^2 - x*cos(xy) + 6$   - частная производная по y\n",
    "    \n",
    "$f'x(1,2) = 2*1*2 - 2*cos(2) - 2*1*sin(1) = 3,14$ значение частной производной по х в точки (1,2)\n",
    "$f'y(1,2) = 1 -1*cos(2) +6 = 7,416$ значение частной производной по у в точки (1,2)"
   ]
  },
  {
   "cell_type": "code",
   "execution_count": 5,
   "metadata": {},
   "outputs": [
    {
     "data": {
      "text/plain": [
       "3.149351703478492"
      ]
     },
     "execution_count": 5,
     "metadata": {},
     "output_type": "execute_result"
    }
   ],
   "source": [
    "2*1*2 - 2*math.cos(2)- 2*1*math.sin(1**2)"
   ]
  },
  {
   "cell_type": "code",
   "execution_count": 6,
   "metadata": {},
   "outputs": [
    {
     "data": {
      "text/plain": [
       "7.416146836547142"
      ]
     },
     "execution_count": 6,
     "metadata": {},
     "output_type": "execute_result"
    }
   ],
   "source": [
    "1 -1*math.cos(2) +6"
   ]
  },
  {
   "cell_type": "code",
   "execution_count": 7,
   "metadata": {},
   "outputs": [
    {
     "data": {
      "text/plain": [
       "array([3.14935184, 7.41614687])"
      ]
     },
     "execution_count": 7,
     "metadata": {},
     "output_type": "execute_result"
    }
   ],
   "source": [
    "# проверка\n",
    "x = np.array([1,2])\n",
    "c0, c1 = (1,6)\n",
    "eps = np.sqrt(np.finfo(float).eps)\n",
    "approx_fprime(x, func2, [eps, eps], c0, c1)"
   ]
  },
  {
   "cell_type": "code",
   "execution_count": null,
   "metadata": {},
   "outputs": [],
   "source": []
  },
  {
   "cell_type": "code",
   "execution_count": null,
   "metadata": {},
   "outputs": [],
   "source": []
  },
  {
   "cell_type": "code",
   "execution_count": null,
   "metadata": {},
   "outputs": [],
   "source": []
  }
 ],
 "metadata": {
  "kernelspec": {
   "display_name": "Python 3",
   "language": "python",
   "name": "python3"
  },
  "language_info": {
   "codemirror_mode": {
    "name": "ipython",
    "version": 3
   },
   "file_extension": ".py",
   "mimetype": "text/x-python",
   "name": "python",
   "nbconvert_exporter": "python",
   "pygments_lexer": "ipython3",
   "version": "3.7.7"
  }
 },
 "nbformat": 4,
 "nbformat_minor": 2
}
